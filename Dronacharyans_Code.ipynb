{
 "cells": [
  {
   "cell_type": "code",
   "execution_count": 1,
   "id": "82090889",
   "metadata": {},
   "outputs": [],
   "source": [
    "import cv2\n",
    "import face_recognition\n",
    "import os\n",
    "import numpy as np\n",
    "from datetime import datetime     \n",
    "import mysql.connector "
   ]
  },
  {
   "cell_type": "code",
   "execution_count": 2,
   "id": "1651fc2c",
   "metadata": {},
   "outputs": [],
   "source": [
    "\n",
    "\n",
    "now = datetime.now()\n",
    "dt = now.strftime(\"%d%m%Y_%H%M%S\")\n",
    "\n",
    "try:\n",
    "    host = \"localhost\"\n",
    "    user  = \"root\"\n",
    "    pswd = input(\"Enter MySQL password : \")\n",
    "\n",
    "\n",
    "    MyDB = mysql.connector.connect(host = host, user = user, password = pswd)\n",
    "\n",
    "    MyCursor = MyDB.cursor()\n",
    "\n",
    "    MyCursor.execute(\"create database IF NOT EXISTS MINeD\")\n",
    "\n",
    "    MyDB = mysql.connector.connect(host = host, user = user, password = pswd, database = \"MINeD\")\n",
    "    MyCursor = MyDB.cursor()\n",
    "\n",
    "    statement = str(\"CREATE TABLE IF NOT EXISTS Emp_Detect_\"+dt+\" (Employee_Code int(45) NOT NULL PRIMARY KEY, Identification_Time datetime default now())\")\n",
    "    MyCursor.execute(statement)\n",
    "\n",
    "except Exception as e:\n",
    "    print(\"An error occured...\")\n",
    "    print(e)\n",
    "\n",
    "\n",
    "\n"
   ]
  },
  {
   "cell_type": "code",
   "execution_count": 3,
   "id": "2f3eb0a4",
   "metadata": {},
   "outputs": [],
   "source": [
    "path = 'dataset1/img'"
   ]
  },
  {
   "cell_type": "code",
   "execution_count": 4,
   "id": "68e05473",
   "metadata": {},
   "outputs": [],
   "source": [
    "images = []\n",
    "EmpNumber = []\n",
    "mylist = os.listdir(path)"
   ]
  },
  {
   "cell_type": "code",
   "execution_count": 5,
   "id": "c61ee3c9",
   "metadata": {},
   "outputs": [],
   "source": [
    "for cl in mylist:\n",
    "    curImg = cv2.imread(f'{path}/{cl}')\n",
    "    images.append(curImg)\n",
    "    EmpNumber.append(os.path.splitext(cl)[0])"
   ]
  },
  {
   "cell_type": "code",
   "execution_count": 6,
   "id": "17ef30b8",
   "metadata": {},
   "outputs": [],
   "source": [
    "def findEncodings(images):\n",
    "    encodeList = []\n",
    "    for img in images:\n",
    "        img = cv2.cvtColor(img, cv2.COLOR_BGR2RGB)\n",
    "        encoded_face = face_recognition.face_encodings(img)[0]\n",
    "        encodeList.append(encoded_face)\n",
    "    return encodeList"
   ]
  },
  {
   "cell_type": "code",
   "execution_count": 7,
   "id": "a3b819ee",
   "metadata": {},
   "outputs": [],
   "source": [
    "encoded_face_train = findEncodings(images)"
   ]
  },
  {
   "attachments": {},
   "cell_type": "markdown",
   "id": "15433def",
   "metadata": {},
   "source": [
    "\n",
    "if u want to capture from live webcam write the below line\n"
   ]
  },
  {
   "attachments": {},
   "cell_type": "markdown",
   "id": "aab89cdd",
   "metadata": {},
   "source": [
    "cap = cv2.VideoCapture(0)"
   ]
  },
  {
   "cell_type": "code",
   "execution_count": null,
   "id": "f266dce5",
   "metadata": {},
   "outputs": [],
   "source": [
    "# take pictures from video\n",
    "# if u want to capture from live webcam write the below line\n",
    "# cap = cv2.VideoCapture(0)\n",
    "cap  = cv2.VideoCapture('dataset1/Video_clip/VID_20230302_170157.mp4') #\n",
    "\n",
    "while True: \n",
    "    success, img = cap.read()\n",
    "    imgS = cv2.resize(img, (0,0), None, 0.25,0.25)\n",
    "    imgS = cv2.cvtColor(imgS, cv2.COLOR_BGR2RGB)\n",
    "    faces_in_frame = face_recognition.face_locations(imgS)\n",
    "    encoded_faces = face_recognition.face_encodings(imgS, faces_in_frame)\n",
    "\n",
    "    for encode_face, faceloc in zip(encoded_faces,faces_in_frame):\n",
    "        matches = face_recognition.compare_faces(encoded_face_train, encode_face)\n",
    "        \n",
    "        faceDist = face_recognition.face_distance(encoded_face_train, encode_face)\n",
    "        matchIndex = np.argmin(faceDist)\n",
    "        \n",
    "\n",
    "        if matches[matchIndex]:\n",
    "            name = EmpNumber[matchIndex].upper().lower()\n",
    "            y1,x2,y2,x1 = faceloc\n",
    "            \n",
    "            y1, x2,y2,x1 = y1*4,x2*4,y2*4,x1*4\n",
    "            cv2.rectangle(img,(x1,y1),(x2,y2),(0,255,0),2)\n",
    "            cv2.rectangle(img, (x1,y2-35),(x2,y2), (0,255,0), cv2.FILLED)\n",
    "            cv2.putText(img,name, (x1+6,y2-5), cv2.FONT_HERSHEY_COMPLEX,1,(255,255,255),2)\n",
    "            try:\n",
    "                SQLStatement = \"INSERT IGNORE INTO Emp_Detect_\"+dt+\" (Employee_Code) VALUES (%s)\"\n",
    "                MyCursor.execute(SQLStatement, (name, ))\n",
    "                MyDB.commit()\n",
    "            \n",
    "            except Exception as e:\n",
    "                print(\"An Error Occured while Entering data into the MySQL table.\")\n",
    "                \n",
    "    cv2.imshow('MINed Hackathon Track 5 J K L Team : Dronacharyans ', img)\n",
    "    key = cv2.waitKey(1) & 0xFF\n",
    "    if key == ord(\"q\"):\n",
    "        break\n",
    "        \n",
    "\n",
    "cv2.destroyAllWindows()\n",
    "cap.release()\n",
    "print(\"program ended\")\n",
    "\n",
    "\n"
   ]
  },
  {
   "cell_type": "code",
   "execution_count": null,
   "id": "fda0fa47",
   "metadata": {},
   "outputs": [],
   "source": []
  }
 ],
 "metadata": {
  "kernelspec": {
   "display_name": "Python 3 (ipykernel)",
   "language": "python",
   "name": "python3"
  },
  "language_info": {
   "codemirror_mode": {
    "name": "ipython",
    "version": 3
   },
   "file_extension": ".py",
   "mimetype": "text/x-python",
   "name": "python",
   "nbconvert_exporter": "python",
   "pygments_lexer": "ipython3",
   "version": "3.9.7"
  }
 },
 "nbformat": 4,
 "nbformat_minor": 5
}
